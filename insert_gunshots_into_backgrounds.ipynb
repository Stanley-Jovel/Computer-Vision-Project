{
 "cells": [
  {
   "cell_type": "code",
   "execution_count": 7,
   "metadata": {},
   "outputs": [],
   "source": [
    "import random\n",
    "import os\n",
    "from os.path import splitext\n",
    "from pydub import AudioSegment, utils\n",
    "import numpy as np\n",
    "import matplotlib.pyplot as plt\n",
    "import librosa\n",
    "import librosa.display\n",
    "\n",
    "DIR = os.getcwd()\n",
    "\n",
    "VALID_AUDIO_EXTENSIONS =('.mp3', '.wav', '.flac', '.ogg', '.m4a', '.aac')\n",
    "# get list of audio files in a folder ignoring any other files to prevent errors\n",
    "def getListOfAudioFilesInFolder(folder_path):\n",
    "  file_list = [file for file in os.listdir(folder_path) if file.endswith(VALID_AUDIO_EXTENSIONS)]\n",
    "  return file_list\n",
    "\n",
    "def split_audio_into_windows(audio, window_duration=10000):\n",
    "  \"\"\"\n",
    "  Takes in a single audio clip and splits it into multiple clips of length `window_duration` (default is 10 seconds).\n",
    "\n",
    "  Returns:\n",
    "      list[] windows: a list of audio clips of length `window_duration` in milliseconds.\n",
    "  \"\"\"\n",
    "  windows = []\n",
    "  audio_duration = len(audio)\n",
    "\n",
    "  for start_time in range(0, audio_duration, window_duration):\n",
    "    end_time = start_time + window_duration\n",
    "    window = audio[start_time:end_time]\n",
    "    windows.append(window)\n",
    "\n",
    "  return windows\n",
    "\n",
    "# Insert the gunshot audio into the background audio at a random interval.\n",
    "def random_insertion(background_audio, gunshot_audio):\n",
    "  try:\n",
    "    # If gunshot_audio can fit, proceed with insertion\n",
    "    if len(gunshot_audio) <= len(background_audio):\n",
    "      start_time = random.randint(0, len(background_audio) - len(gunshot_audio))\n",
    "      result = background_audio.overlay(gunshot_audio, position=start_time)\n",
    "\n",
    "      return result\n",
    "  except ValueError as e:\n",
    "    # Ignore this case and return None\n",
    "    print(f\"Ignoring error: {e}\")\n",
    "    return\n",
    "\n",
    "# Generate a spectrogram for the audio file and save it to the output file.\n",
    "def generate_spectrogram(audio_segment, output_file):\n",
    "  temp_audio = f\"{DIR}/output/audio/{output_file}.mp3\"\n",
    "  audio_segment.export(temp_audio, format=\"mp3\")\n",
    " \n",
    "  samples = librosa.load(temp_audio, sr=audio_segment.frame_rate)[0]\n",
    "  # Z-normalize the samples \n",
    "  # samples = (samples - np.mean(samples)) / np.std(samples)\n",
    "  # Use librosa to compute a spectrogram\n",
    "  spectrogram = librosa.feature.melspectrogram(y=samples, sr=audio_segment.frame_rate)\n",
    "  # Convert amplitude to decibels\n",
    "  log_spectrogram = librosa.power_to_db(spectrogram, ref=np.max)\n",
    "\n",
    "  # Plot and save the spectrogram\n",
    "  plt.figure(figsize=(10, 4))\n",
    "  librosa.display.specshow(log_spectrogram, sr=audio_segment.frame_rate, x_axis='time', y_axis='linear')\n",
    "  # plt.colorbar(format='%+2.0f dB')\n",
    "  plt.axis('off')\n",
    "  plt.savefig(f\"{DIR}/output/spectrograms/{output_file}\", bbox_inches='tight', pad_inches=0)\n",
    "  # plt.show()\n",
    "  os.remove(temp_audio)\n",
    "  plt.close()\n",
    "\n",
    "# Create multiple variations of gunshot-inserted audio files.\n",
    "def create_variations(window_duration=10000):\n",
    "  background_folder = f\"{DIR}/input/background\"\n",
    "  gunshot_folder = f\"{DIR}/input/gunshot\"\n",
    "  non_gunshot_folder = f\"{DIR}/input/non-gunshot\"\n",
    "  background_files = getListOfAudioFilesInFolder(background_folder)\n",
    "  gunshot_files = getListOfAudioFilesInFolder(gunshot_folder)\n",
    "  non_gunshot_files = getListOfAudioFilesInFolder(non_gunshot_folder)\n",
    "\n",
    "  for bg_file_name in background_files:\n",
    "    bg_file_path = os.path.join(background_folder, bg_file_name)\n",
    "    bg_audio = AudioSegment.from_file(bg_file_path)\n",
    "    \n",
    "    for i, window in enumerate(split_audio_into_windows(bg_audio, window_duration)):\n",
    "      # Select a gunshot within 80% chance, otherwise select a non-gunshot\n",
    "      include_gunshot = True\n",
    "      if random.random() <= 0.8:\n",
    "        selected_gunshot = random.choice(gunshot_files)\n",
    "        gunshot_audio = AudioSegment.from_file(os.path.join(gunshot_folder, selected_gunshot))\n",
    "      else:\n",
    "        include_gunshot = False\n",
    "        selected_gunshot = random.choice(non_gunshot_files)\n",
    "        gunshot_audio = AudioSegment.from_file(os.path.join(non_gunshot_folder, selected_gunshot))\n",
    "      \n",
    "      # Normalize the audio segments to prevent clipping\n",
    "      window = window.normalize()\n",
    "      gunshot_audio = gunshot_audio.normalize()\n",
    "      \n",
    "      window_name = f\"{splitext(bg_file_name)[0]}_window={i+1}\"\n",
    "\n",
    "      # Generate the spectrogram for the original background window without a gunshot\n",
    "      generate_spectrogram(window, f\"{window_name}_gun=0.png\")\n",
    "      \n",
    "      # Create a copy of the original background window with the gunshot inserted at different volume levels\n",
    "      for volume in [0.08, 0.35, 0.70]:\n",
    "        modified_gunshot = gunshot_audio.apply_gain(utils.ratio_to_db(volume))\n",
    "        result_audio = random_insertion(window, modified_gunshot)\n",
    "        \n",
    "        if result_audio is not None:\n",
    "          result_audio = result_audio.normalize()\n",
    "          output_filename = f\"{window_name}_vol={int(volume * 100)}%_gun={1 if include_gunshot else 0}\"\n",
    "          \n",
    "          # Export result audio as mp3\n",
    "          result_audio.export(f\"{DIR}/output/audio/{output_filename}.mp3\", format=\"mp3\")\n",
    "          # Generate the spectrogram for the result audio\n",
    "          generate_spectrogram(result_audio, f\"{output_filename}.png\")\n"
   ]
  },
  {
   "cell_type": "code",
   "execution_count": 8,
   "metadata": {},
   "outputs": [
    {
     "ename": "FileNotFoundError",
     "evalue": "[Errno 2] No such file or directory: '/Users/stanley/Library/CloudStorage/GoogleDrive-luis.jovel-portal@fulbrightmail.org/My Drive/Documents/Fulbright Application 2020-2021/Courses/Fall Semester 2023/Computer Vision/Project/input/gunshot/fireworks 4-119648-B-48.wav'",
     "output_type": "error",
     "traceback": [
      "\u001b[0;31m---------------------------------------------------------------------------\u001b[0m",
      "\u001b[0;31mFileNotFoundError\u001b[0m                         Traceback (most recent call last)",
      "\u001b[1;32m/Users/stanley/Library/CloudStorage/GoogleDrive-luis.jovel-portal@fulbrightmail.org/My Drive/Documents/Fulbright Application 2020-2021/Courses/Fall Semester 2023/Computer Vision/Project/insert_gunshots_into_backgrounds.ipynb Cell 2\u001b[0m line \u001b[0;36m2\n\u001b[1;32m      <a href='vscode-notebook-cell:/Users/stanley/Library/CloudStorage/GoogleDrive-luis.jovel-portal%40fulbrightmail.org/My%20Drive/Documents/Fulbright%20Application%202020-2021/Courses/Fall%20Semester%202023/Computer%20Vision/Project/insert_gunshots_into_backgrounds.ipynb#W1sZmlsZQ%3D%3D?line=0'>1</a>\u001b[0m \u001b[39m# Create variations\u001b[39;00m\n\u001b[0;32m----> <a href='vscode-notebook-cell:/Users/stanley/Library/CloudStorage/GoogleDrive-luis.jovel-portal%40fulbrightmail.org/My%20Drive/Documents/Fulbright%20Application%202020-2021/Courses/Fall%20Semester%202023/Computer%20Vision/Project/insert_gunshots_into_backgrounds.ipynb#W1sZmlsZQ%3D%3D?line=1'>2</a>\u001b[0m create_variations()\n",
      "\u001b[1;32m/Users/stanley/Library/CloudStorage/GoogleDrive-luis.jovel-portal@fulbrightmail.org/My Drive/Documents/Fulbright Application 2020-2021/Courses/Fall Semester 2023/Computer Vision/Project/insert_gunshots_into_backgrounds.ipynb Cell 2\u001b[0m line \u001b[0;36m9\n\u001b[1;32m     <a href='vscode-notebook-cell:/Users/stanley/Library/CloudStorage/GoogleDrive-luis.jovel-portal%40fulbrightmail.org/My%20Drive/Documents/Fulbright%20Application%202020-2021/Courses/Fall%20Semester%202023/Computer%20Vision/Project/insert_gunshots_into_backgrounds.ipynb#W1sZmlsZQ%3D%3D?line=90'>91</a>\u001b[0m   include_gunshot \u001b[39m=\u001b[39m \u001b[39mFalse\u001b[39;00m\n\u001b[1;32m     <a href='vscode-notebook-cell:/Users/stanley/Library/CloudStorage/GoogleDrive-luis.jovel-portal%40fulbrightmail.org/My%20Drive/Documents/Fulbright%20Application%202020-2021/Courses/Fall%20Semester%202023/Computer%20Vision/Project/insert_gunshots_into_backgrounds.ipynb#W1sZmlsZQ%3D%3D?line=91'>92</a>\u001b[0m   selected_gunshot \u001b[39m=\u001b[39m random\u001b[39m.\u001b[39mchoice(non_gunshot_files)\n\u001b[0;32m---> <a href='vscode-notebook-cell:/Users/stanley/Library/CloudStorage/GoogleDrive-luis.jovel-portal%40fulbrightmail.org/My%20Drive/Documents/Fulbright%20Application%202020-2021/Courses/Fall%20Semester%202023/Computer%20Vision/Project/insert_gunshots_into_backgrounds.ipynb#W1sZmlsZQ%3D%3D?line=93'>94</a>\u001b[0m gunshot_audio \u001b[39m=\u001b[39m AudioSegment\u001b[39m.\u001b[39;49mfrom_file(os\u001b[39m.\u001b[39;49mpath\u001b[39m.\u001b[39;49mjoin(gunshot_folder, selected_gunshot))\n\u001b[1;32m     <a href='vscode-notebook-cell:/Users/stanley/Library/CloudStorage/GoogleDrive-luis.jovel-portal%40fulbrightmail.org/My%20Drive/Documents/Fulbright%20Application%202020-2021/Courses/Fall%20Semester%202023/Computer%20Vision/Project/insert_gunshots_into_backgrounds.ipynb#W1sZmlsZQ%3D%3D?line=95'>96</a>\u001b[0m \u001b[39m# Normalize the audio segments to prevent clipping\u001b[39;00m\n\u001b[1;32m     <a href='vscode-notebook-cell:/Users/stanley/Library/CloudStorage/GoogleDrive-luis.jovel-portal%40fulbrightmail.org/My%20Drive/Documents/Fulbright%20Application%202020-2021/Courses/Fall%20Semester%202023/Computer%20Vision/Project/insert_gunshots_into_backgrounds.ipynb#W1sZmlsZQ%3D%3D?line=96'>97</a>\u001b[0m window \u001b[39m=\u001b[39m window\u001b[39m.\u001b[39mnormalize()\n",
      "File \u001b[0;32m~/Library/CloudStorage/GoogleDrive-luis.jovel-portal@fulbrightmail.org/My Drive/Documents/Fulbright Application 2020-2021/Courses/Fall Semester 2023/venv/lib/python3.11/site-packages/pydub/audio_segment.py:651\u001b[0m, in \u001b[0;36mAudioSegment.from_file\u001b[0;34m(cls, file, format, codec, parameters, start_second, duration, **kwargs)\u001b[0m\n\u001b[1;32m    649\u001b[0m \u001b[39mexcept\u001b[39;00m \u001b[39mTypeError\u001b[39;00m:\n\u001b[1;32m    650\u001b[0m     filename \u001b[39m=\u001b[39m \u001b[39mNone\u001b[39;00m\n\u001b[0;32m--> 651\u001b[0m file, close_file \u001b[39m=\u001b[39m _fd_or_path_or_tempfile(file, \u001b[39m'\u001b[39;49m\u001b[39mrb\u001b[39;49m\u001b[39m'\u001b[39;49m, tempfile\u001b[39m=\u001b[39;49m\u001b[39mFalse\u001b[39;49;00m)\n\u001b[1;32m    653\u001b[0m \u001b[39mif\u001b[39;00m \u001b[39mformat\u001b[39m:\n\u001b[1;32m    654\u001b[0m     \u001b[39mformat\u001b[39m \u001b[39m=\u001b[39m \u001b[39mformat\u001b[39m\u001b[39m.\u001b[39mlower()\n",
      "File \u001b[0;32m~/Library/CloudStorage/GoogleDrive-luis.jovel-portal@fulbrightmail.org/My Drive/Documents/Fulbright Application 2020-2021/Courses/Fall Semester 2023/venv/lib/python3.11/site-packages/pydub/utils.py:60\u001b[0m, in \u001b[0;36m_fd_or_path_or_tempfile\u001b[0;34m(fd, mode, tempfile)\u001b[0m\n\u001b[1;32m     57\u001b[0m     close_fd \u001b[39m=\u001b[39m \u001b[39mTrue\u001b[39;00m\n\u001b[1;32m     59\u001b[0m \u001b[39mif\u001b[39;00m \u001b[39misinstance\u001b[39m(fd, basestring):\n\u001b[0;32m---> 60\u001b[0m     fd \u001b[39m=\u001b[39m \u001b[39mopen\u001b[39m(fd, mode\u001b[39m=\u001b[39mmode)\n\u001b[1;32m     61\u001b[0m     close_fd \u001b[39m=\u001b[39m \u001b[39mTrue\u001b[39;00m\n\u001b[1;32m     63\u001b[0m \u001b[39mtry\u001b[39;00m:\n",
      "\u001b[0;31mFileNotFoundError\u001b[0m: [Errno 2] No such file or directory: '/Users/stanley/Library/CloudStorage/GoogleDrive-luis.jovel-portal@fulbrightmail.org/My Drive/Documents/Fulbright Application 2020-2021/Courses/Fall Semester 2023/Computer Vision/Project/input/gunshot/fireworks 4-119648-B-48.wav'"
     ]
    }
   ],
   "source": [
    "# Create variations\n",
    "create_variations()"
   ]
  },
  {
   "cell_type": "markdown",
   "metadata": {},
   "source": [
    "# Utilities"
   ]
  },
  {
   "cell_type": "code",
   "execution_count": 44,
   "metadata": {},
   "outputs": [
    {
     "data": {
      "text/plain": [
       "'/Users/stanley/Library/CloudStorage/GoogleDrive-luis.jovel-portal@fulbrightmail.org/My Drive/Documents/Fulbright Application 2020-2021/Courses/Fall Semester 2023/Computer Vision/Project'"
      ]
     },
     "execution_count": 44,
     "metadata": {},
     "output_type": "execute_result"
    }
   ],
   "source": [
    "# Convert all input WAV into MP3\n",
    "def convert_wav_to_mp3(input_folder, output_folder):\n",
    "  # Ensure the output folder exists\n",
    "  os.makedirs(output_folder, exist_ok=True)\n",
    "\n",
    "  for filename in os.listdir(input_folder):\n",
    "    if filename.endswith(\".wav\"):\n",
    "      wav_file_path = os.path.join(input_folder, filename)\n",
    "      audio = AudioSegment.from_wav(wav_file_path)\n",
    "      mp3_file_path = os.path.join(output_folder, os.path.splitext(filename)[0] + \".mp3\")\n",
    "      audio.export(mp3_file_path, format=\"mp3\")\n",
    "\n",
    "# convert_wav_to_mp3(os.getenv('GUNSHOT_FOLDER'), os.getenv('GUNSHOT_FOLDER') + \"/mp3\")"
   ]
  }
 ],
 "metadata": {
  "kernelspec": {
   "display_name": "venv",
   "language": "python",
   "name": "python3"
  },
  "language_info": {
   "codemirror_mode": {
    "name": "ipython",
    "version": 3
   },
   "file_extension": ".py",
   "mimetype": "text/x-python",
   "name": "python",
   "nbconvert_exporter": "python",
   "pygments_lexer": "ipython3",
   "version": "3.11.6"
  }
 },
 "nbformat": 4,
 "nbformat_minor": 2
}

{
 "cells": [
  {
   "cell_type": "code",
   "execution_count": 69,
   "metadata": {},
   "outputs": [],
   "source": [
    "import random\n",
    "import os\n",
    "from pydub import AudioSegment, utils\n",
    "from dotenv import load_dotenv"
   ]
  },
  {
   "cell_type": "code",
   "execution_count": 50,
   "metadata": {},
   "outputs": [],
   "source": [
    "def split_audio_into_windows(audio, window_duration=10000):\n",
    "    \"\"\"\n",
    "    Takes in a single audio clip and splits it into multiple clips of length `window_duration`.\n",
    "\n",
    "    Returns:\n",
    "        list[] windows: a list of audio clips of length `window_duration` in milliseconds.\n",
    "    \"\"\"\n",
    "    windows = []\n",
    "    audio_duration = len(audio)\n",
    "\n",
    "    for start_time in range(0, audio_duration, window_duration):\n",
    "        end_time = start_time + window_duration\n",
    "        window = audio[start_time:end_time]\n",
    "        windows.append(window)\n",
    "\n",
    "    return windows"
   ]
  },
  {
   "cell_type": "code",
   "execution_count": 51,
   "metadata": {},
   "outputs": [],
   "source": [
    "# Insert the gunshot audio into the background audio at a random interval.\n",
    "def random_insertion(background_audio, gunshot_audio):\n",
    "    try:\n",
    "        # If gunshot_audio can fit, proceed with insertion\n",
    "        if len(gunshot_audio) <= len(background_audio):\n",
    "            start_time = random.randint(0, len(background_audio) - len(gunshot_audio))\n",
    "            result = background_audio.overlay(gunshot_audio, position=start_time)\n",
    "\n",
    "            return result\n",
    "    except ValueError as e:\n",
    "        # Ignore this case and return None\n",
    "        print(f\"Ignoring error: {e}\")\n",
    "        return\n",
    "\n",
    "VALID_AUDIO_EXTENSIONS = {'.mp3', '.wav', '.flac', '.ogg', '.m4a', '.aac'}\n",
    "\n",
    "# Create multiple variations of gunshot-inserted audio files.\n",
    "def create_variations(background_folder, gunshot_folder, output_folder, window_duration=10000):\n",
    "    background_files = os.listdir(background_folder)\n",
    "    gunshot_files = os.listdir(gunshot_folder)\n",
    "\n",
    "    for bg_file_name in background_files:\n",
    "        bg_file_path = os.path.join(background_folder, bg_file_name)\n",
    "        bg_audio = AudioSegment.from_file(bg_file_path)\n",
    "\n",
    "        # Check if the file has a valid audio extension\n",
    "        if os.path.splitext(bg_file_path)[1].lower() not in VALID_AUDIO_EXTENSIONS:\n",
    "            continue\n",
    "        \n",
    "        for i, window in enumerate(split_audio_into_windows(bg_audio, window_duration)):\n",
    "            selected_gunshot = random.choice(gunshot_files)\n",
    "            gunshot_audio = AudioSegment.from_file(os.path.join(gunshot_folder, selected_gunshot))\n",
    "            \n",
    "            volume_levels = [0.1, 0.5, 1.0]  # 10% 50% 100%\n",
    "            for volume in volume_levels:\n",
    "                # Create a copy of the original gunshot audio with the specified volume level\n",
    "                modified_gunshot = gunshot_audio.apply_gain(utils.ratio_to_db(volume))\n",
    "\n",
    "                # Perform the random insertion with the modified gunshot audio\n",
    "                result_audio = random_insertion(window, modified_gunshot)\n",
    "\n",
    "                if result_audio is not None:\n",
    "                    # Save the result audio with a unique name including volume level\n",
    "                    output_filename = f\"{os.path.splitext(bg_file_name)[0]}_window-{i+1}_gun={os.path.splitext(selected_gunshot)[0]}_vol={int(volume * 100)}%.wav\"\n",
    "                    result_audio.export(os.path.join(output_folder, output_filename), format=\"wav\")\n"
   ]
  },
  {
   "cell_type": "code",
   "execution_count": 71,
   "metadata": {},
   "outputs": [],
   "source": [
    "load_dotenv(override=True)\n",
    "\n",
    "# Create variations\n",
    "create_variations(os.getenv('BACKGROUND_FOLDER'), os.getenv('GUNSHOT_FOLDER'), os.getenv('OUTPUT_FOLDER'))"
   ]
  }
 ],
 "metadata": {
  "kernelspec": {
   "display_name": "venv",
   "language": "python",
   "name": "python3"
  },
  "language_info": {
   "codemirror_mode": {
    "name": "ipython",
    "version": 3
   },
   "file_extension": ".py",
   "mimetype": "text/x-python",
   "name": "python",
   "nbconvert_exporter": "python",
   "pygments_lexer": "ipython3",
   "version": "3.11.6"
  }
 },
 "nbformat": 4,
 "nbformat_minor": 2
}
